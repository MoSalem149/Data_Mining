{
 "cells": [
  {
   "cell_type": "code",
   "execution_count": 2,
   "id": "447f5b29-caae-40e5-b232-73267ae84f0a",
   "metadata": {},
   "outputs": [
    {
     "name": "stdout",
     "output_type": "stream",
     "text": [
      "Number of rows: \n",
      "6\n",
      "Random 50% rows: \n",
      "  coll  col2  col3\n",
      "4    F     7     2\n",
      "0    A     2     0\n",
      "5    C     4     3\n",
      "Sorted by 'coll', DESC: \n",
      "  coll  col2  col3\n",
      "4    F     7     2\n",
      "3    E     8     4\n",
      "2    D     9     9\n",
      "5    C     4     3\n",
      "1    B     1     1\n",
      "0    A     2     0\n",
      "Filtered data (col2 >= 7): \n",
      "  coll  col2  col3\n",
      "2    D     9     9\n",
      "3    E     8     4\n",
      "4    F     7     2\n",
      "The oldest 3 rows: \n",
      "  coll  col2  col3\n",
      "0    A     2     0\n",
      "1    B     1     1\n",
      "4    F     7     2\n"
     ]
    }
   ],
   "source": [
    "# Assignment (3):\n",
    "\n",
    "#For the following code :\n",
    "# df = pd.DataFrame({\n",
    "#     'coll' : ['A', 'B', 'D', 'E', 'F', 'C'],\n",
    "#     'col2' : [2, 1, 9, 8, 7, 4],\n",
    "#     'col3' : [0, 1, 9, 4, 2, 3]\n",
    "# }) \n",
    "# Get number of rows \n",
    "# Get random 50% rows \n",
    "# Sort by 'col1' , DESC\n",
    "# Filter data to get obtain result (col2 >=7 )\n",
    "# Get the oldest 3 rows\n",
    "\n",
    "import pandas as pd \n",
    "\n",
    "# Create DataFrame\n",
    "df = pd.DataFrame({\n",
    "    'coll' : ['A', 'B', 'D', 'E', 'F', 'C'],\n",
    "    'col2' : [2, 1, 9, 8, 7, 4],\n",
    "    'col3' : [0, 1, 9, 4, 2, 3]\n",
    "}) \n",
    "\n",
    "# Get number of rows\n",
    "num_rows = len(df)\n",
    "print(\"Number of rows: \")\n",
    "print(num_rows)\n",
    "\n",
    "# Get random 50% rows\n",
    "random_rows = df.sample(frac = 0.5)\n",
    "print(\"Random 50% rows: \")\n",
    "print(random_rows)\n",
    "\n",
    "# Sort by 'coll' , DESC\n",
    "sorted_df = df.sort_values(by='coll', ascending=False)\n",
    "print(\"Sorted by 'coll', DESC: \")\n",
    "print(sorted_df)\n",
    "\n",
    "# Filter data to get obtain result (col2 >=7 )\n",
    "filtered_df = df[df['col2'] >= 7]\n",
    "print(\"Filtered data (col2 >= 7): \")\n",
    "print(filtered_df)\n",
    "\n",
    "# Get the oldest 3 rows\n",
    "oldest_rows = df.nsmallest(3, 'col3')\n",
    "print(\"The oldest 3 rows: \")\n",
    "print(oldest_rows)\n",
    "\n"
   ]
  },
  {
   "cell_type": "code",
   "execution_count": null,
   "id": "f93043b7-7389-4dfc-bc38-dc38bc3df0cc",
   "metadata": {},
   "outputs": [],
   "source": []
  }
 ],
 "metadata": {
  "kernelspec": {
   "display_name": "Python 3 (ipykernel)",
   "language": "python",
   "name": "python3"
  },
  "language_info": {
   "codemirror_mode": {
    "name": "ipython",
    "version": 3
   },
   "file_extension": ".py",
   "mimetype": "text/x-python",
   "name": "python",
   "nbconvert_exporter": "python",
   "pygments_lexer": "ipython3",
   "version": "3.11.7"
  }
 },
 "nbformat": 4,
 "nbformat_minor": 5
}
