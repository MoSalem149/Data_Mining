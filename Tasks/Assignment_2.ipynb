{
 "cells": [
  {
   "cell_type": "code",
   "execution_count": null,
   "id": "d9356b40-1abd-45be-8104-096b5ff3330c",
   "metadata": {},
   "outputs": [],
   "source": [
    "# Assignment (2):\n",
    "\n",
    "# BMI (Body Mass Index) is a measurement of body fat based on height and weight that applies to both men and women between the ages of 18 and 65 years. \n",
    "# BMI can be used to  indicate if you are overweight, obese, underweight or normal.\n",
    "# You should receive the following fields : Name , Weight (KG),  Height (CM).\n",
    "# Use the following formula to calculate BMI :\n",
    "# BMI = (Weight in Kilograms / (Height in Meters x Height in  Meters))\n",
    "# Notes :\n",
    "# bmi <= 18.5 then UNDERWEIGHT\n",
    "# bmi > 18.5 AND bmi<=24.9 then NORMAL WEIGHT\n",
    "# bmi > 24.9 AND num<=29.9 then OVERWEIGHT\n",
    "# bmi > 30.0 then OBESE\n",
    "# Demo for the final result: \"Your BMI value is <<BMI_VALUE>> and you are : <<STATUS>>.\n",
    "\n",
    "def calculate_bmi(weight, height):\n",
    "    height_meters = height / 100\n",
    "    bmi = weight / (height_meters * height_meters)\n",
    "    return bmi\n",
    "\n",
    "def determine_status(bmi):\n",
    "    if bmi <= 18.5:\n",
    "        return \"UNDERWEIGHT\"\n",
    "    elif bmi > 18.5 and bmi <= 24.9:\n",
    "        return \"NORMAL WEIGHT\"\n",
    "    elif bmi > 24.9 and bmi <= 29.9:\n",
    "        return \"OVERWEIGHT\"\n",
    "    else:\n",
    "        return \"OBESE\"\n",
    "    \n",
    "def main():\n",
    "    name = input(\"Enter your name: \")\n",
    "    weight = float(input(\"Enter your weight in KG: \"))\n",
    "    height = float(input(\"Enter your height in CM: \"))\n",
    "\n",
    "    bmi = calculate_bmi(weight, height)\n",
    "    status = determine_status(bmi)\n",
    "\n",
    "    print(f\"Hello {name}, your BMI value is {bmi:.2f} and you are: {status}.\")\n",
    "\n",
    "if __name__ == \"__main__\":\n",
    "    main()"
   ]
  },
  {
   "cell_type": "code",
   "execution_count": null,
   "id": "85bd9cb4-0c78-454f-b995-1b9e98a1f825",
   "metadata": {},
   "outputs": [],
   "source": []
  }
 ],
 "metadata": {
  "kernelspec": {
   "display_name": "Python 3 (ipykernel)",
   "language": "python",
   "name": "python3"
  },
  "language_info": {
   "codemirror_mode": {
    "name": "ipython",
    "version": 3
   },
   "file_extension": ".py",
   "mimetype": "text/x-python",
   "name": "python",
   "nbconvert_exporter": "python",
   "pygments_lexer": "ipython3",
   "version": "3.11.7"
  }
 },
 "nbformat": 4,
 "nbformat_minor": 5
}
