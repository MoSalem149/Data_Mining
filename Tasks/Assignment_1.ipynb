{
 "cells": [
  {
   "cell_type": "code",
   "execution_count": 1,
   "id": "f557a871-47b4-4661-98de-e6721812dff8",
   "metadata": {},
   "outputs": [
    {
     "name": "stdin",
     "output_type": "stream",
     "text": [
      "Enter your name:  mo\n",
      "Enter your department:  is\n",
      "Enter your degree:  85\n"
     ]
    },
    {
     "name": "stdout",
     "output_type": "stream",
     "text": [
      "Hello mo, your department is is and your degree is Excellent!\n"
     ]
    }
   ],
   "source": [
    "#Assignment (1):\n",
    "\n",
    "# We want to know your grade ( Pass / Good / Very  Good / Excellent ) from your degree.\n",
    "# So , you  should receive the following values from the user :  Name , Department , Degree .\n",
    "# Then show the  following (Demo) : Hello Mohammed , “Your  department is IS and your degree is <<GRADE>>! ” .\n",
    "\n",
    "def calculate_grade(degree):\n",
    "    if degree >= 85:\n",
    "        return \"Excellent\"\n",
    "    elif degree >= 75:\n",
    "        return \"Very Good\"\n",
    "    elif degree >= 65:S\n",
    "        return \"Good\"\n",
    "    else:\n",
    "        return \"Pass\"\n",
    "    \n",
    "def main():\n",
    "    name = input(\"Enter your name: \")\n",
    "    department = input(\"Enter your department: \")\n",
    "    degree = int(input(\"Enter your degree: \"))\n",
    "\n",
    "    grade = calculate_grade(degree)\n",
    "\n",
    "    print(f\"Hello {name}, your department of {department} and your degree is {grade}!\")\n",
    "\n",
    "if __name__ == \"__main__\":\n",
    "    main()"
   ]
  },
  {
   "cell_type": "code",
   "execution_count": null,
   "id": "f1cae5d5-64ee-4b9f-a539-cf89be56680a",
   "metadata": {},
   "outputs": [],
   "source": []
  }
 ],
 "metadata": {
  "kernelspec": {
   "display_name": "Python 3 (ipykernel)",
   "language": "python",
   "name": "python3"
  },
  "language_info": {
   "codemirror_mode": {
    "name": "ipython",
    "version": 3
   },
   "file_extension": ".py",
   "mimetype": "text/x-python",
   "name": "python",
   "nbconvert_exporter": "python",
   "pygments_lexer": "ipython3",
   "version": "3.11.7"
  }
 },
 "nbformat": 4,
 "nbformat_minor": 5
}
