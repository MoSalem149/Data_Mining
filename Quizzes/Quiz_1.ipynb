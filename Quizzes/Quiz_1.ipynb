{
 "cells": [
  {
   "cell_type": "code",
   "execution_count": null,
   "id": "892c80cc-7c9b-49c5-bd2d-215dd2cc701b",
   "metadata": {},
   "outputs": [],
   "source": [
    "# Create the following employees information List all employees with salary greater than 50000 and sick days greater than 5. \n",
    "#Using seaborne create boxplot for salary attribute. The table: \n",
    "#Name Attribute [Graham Chapman, John Cleese, Eric Idle, Terry Jones, Elina Gilliam, Michael Palin] \n",
    "#Hired Attribute [3/15/2014, 6/1/2015, 5/12/2014, 11/1/2013, 8/12/2014, 5/23/2013] \n",
    "#Salary Attribute [50000, 65000, 45000, 70000, 48000, 66000] Sick Days Attribute [10, 8, 10, 3, 7, 8]\n",
    "\n",
    "# Import Important Packages\n",
    "import pandas as pd\n",
    "import seaborn as sns\n",
    "import matplotlib.pyplot as plt\n",
    "\n",
    "# Create a DataFrame\n",
    "data = {\n",
    "    'Name': ['Graham Chapman', 'John Cleese', 'Eric Idle', 'Terry Jones', 'Elina Gilliam', 'Michael Palin'],\n",
    "    'Hired': ['3/15/2014', '6/1/2015', '5/12/2014', '11/1/2013', '8/12/2014', '5/23/2013'],\n",
    "    'Salary': [50000, 65000, 45000, 70000, 48000, 66000],\n",
    "    'Sick Days': [10, 8, 10, 3, 7, 8]\n",
    "}\n",
    "\n",
    "df = pd.DataFrame(data)\n",
    "print(df)\n",
    "\n",
    "# Convert Hired to datetime\n",
    "df['Hired'] = pd.to_datetime(df['Hired'])\n",
    "\n",
    "# Filter data where Salary > 50000 and Sick Days > 5\n",
    "filtered_df = df[(df['Salary'] > 50000) & (df['Sick Days'] > 5)]\n",
    "print(\"Filtered Employees:\")\n",
    "print(filtered_df)\n",
    "\n",
    "# Create Boxplot for the Salary attribute\n",
    "plt.figure(figsize=(8, 6))\n",
    "sns.boxplot(y=df['Salary'])\n",
    "plt.title('Boxplot of Employee Salaries')\n",
    "plt.show()"
   ]
  }
 ],
 "metadata": {
  "kernelspec": {
   "display_name": "Python 3 (ipykernel)",
   "language": "python",
   "name": "python3"
  },
  "language_info": {
   "codemirror_mode": {
    "name": "ipython",
    "version": 3
   },
   "file_extension": ".py",
   "mimetype": "text/x-python",
   "name": "python",
   "nbconvert_exporter": "python",
   "pygments_lexer": "ipython3",
   "version": "3.11.7"
  }
 },
 "nbformat": 4,
 "nbformat_minor": 5
}
