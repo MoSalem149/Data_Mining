{
 "cells": [
  {
   "cell_type": "code",
   "execution_count": null,
   "id": "df6a9ae7-2ff2-4050-a968-8529272aa38f",
   "metadata": {},
   "outputs": [],
   "source": [
    "#Create the following purchases data. Using the Apriori - FB Growth Algorithms find the association rules with support 20% confidence 70% and lift > 1 The table: \n",
    "#Trans ID [101, 102, 103, 104, 105, 106, 107, 108, 109,110] Items Purchased [(milk, bread, eggs), \n",
    "#(milk, juice), (juice, butter), (milk, bread, eggs), (coffee, eggs), (coffee), (coffee, juice), (milk, bread, cookies, eggs), (cookies, butter), (milk, bread)]\n",
    "\n",
    "# Import Important Packages\n",
    "import pandas as pd\n",
    "from mlxtend.preprocessing import TransactionEncoder\n",
    "from mlxtend.frequent_patterns import apriori, association_rules\n",
    "\n",
    "# Create a DataFrame for the purchase transactions\n",
    "data = {\n",
    "    'Trans ID': [101, 102, 103, 104, 105, 106, 107, 108, 109, 110],\n",
    "    'Items Purchased': [['milk', 'bread', 'eggs'], ['milk', 'juice'], ['juice', 'butter'],\n",
    "                        ['milk', 'bread', 'eggs'], ['coffee', 'eggs'], ['coffee'],\n",
    "                        ['coffee', 'juice'], ['milk', 'bread', 'cookies', 'eggs'],\n",
    "                        ['cookies', 'butter'], ['milk', 'bread']]\n",
    "}\n",
    "\n",
    "df = pd.DataFrame(data)\n",
    "\n",
    "# Convert items into one-hot encoded format\n",
    "te = TransactionEncoder()\n",
    "te_ary = te.fit(df['Items Purchased']).transform(df['Items Purchased'])\n",
    "df_encoded = pd.DataFrame(te_ary, columns=te.columns_)\n",
    "\n",
    "# Find frequent itemsets with Apriori algorithm\n",
    "frequent_itemsets = apriori(df_encoded, min_support=0.2, use_colnames=True)\n",
    "\n",
    "# Find association rules meeting the criteria\n",
    "rules = association_rules(frequent_itemsets, metric=\"confidence\", min_threshold=0.7)\n",
    "rules = rules[rules['lift'] > 1]\n",
    "\n",
    "print(\"Association Rules:\")\n",
    "print(rules)"
   ]
  }
 ],
 "metadata": {
  "kernelspec": {
   "display_name": "Python 3 (ipykernel)",
   "language": "python",
   "name": "python3"
  },
  "language_info": {
   "codemirror_mode": {
    "name": "ipython",
    "version": 3
   },
   "file_extension": ".py",
   "mimetype": "text/x-python",
   "name": "python",
   "nbconvert_exporter": "python",
   "pygments_lexer": "ipython3",
   "version": "3.11.7"
  }
 },
 "nbformat": 4,
 "nbformat_minor": 5
}
